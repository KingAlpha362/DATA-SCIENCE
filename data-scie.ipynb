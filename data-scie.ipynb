{
 "cells": [
  {
   "cell_type": "markdown",
   "id": "6af14e5c",
   "metadata": {},
   "source": [
    "# DATA SCIENCE WITH PANDAS AND MATPLOTLIB\n",
    "\n",
    "Data Science"
   ]
  },
  {
   "cell_type": "code",
   "execution_count": null,
   "id": "cf16be2c",
   "metadata": {},
   "outputs": [],
   "source": [
    "from matplotlib import pyplot as plt\n",
    "import pandas as pd\n",
    "\n",
    "data = {\n",
    "    \"Category\": ['Electronics', 'Clothing', 'Books', 'Home', 'Food'],\n",
    "    \"Score\": [4.2, 3.8, 4.5, 3.9, 4.1]\n",
    "}\n",
    "\n",
    "df = pd.DataFrame(data)\n",
    "df = df.sort_values(by='Score', ascending=False)\n",
    "\n",
    "colors = ['blue', 'green', 'red', 'orange', 'yellow']\n",
    "\n",
    "plt.bar(df['Category'], df['Score'], color=colors)\n",
    "\n",
    "plt.xlabel('Category')\n",
    "plt.ylabel('Score')\n",
    "plt.title('Customer Satisfaction')\n",
    "\n",
    "plt.show()\n",
    "\n"
   ]
  }
 ],
 "metadata": {
  "kernelspec": {
   "display_name": "Python 3",
   "language": "python",
   "name": "python3"
  },
  "language_info": {
   "name": "python",
   "version": "3.13.7"
  }
 },
 "nbformat": 4,
 "nbformat_minor": 5
}
