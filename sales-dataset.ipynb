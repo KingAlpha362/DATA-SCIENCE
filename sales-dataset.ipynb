{
 "cells": [
  {
   "cell_type": "markdown",
   "id": "abbfc9f5",
   "metadata": {},
   "source": [
    "# Data Science \n",
    "Data science done by Alpha\n"
   ]
  },
  {
   "cell_type": "code",
   "execution_count": null,
   "id": "f843cc82",
   "metadata": {},
   "outputs": [],
   "source": [
    "from matplotlib import pyplot as plt\n",
    "import pandas as pd\n",
    "\n",
    "df = pd.read_csv(\"sales_data_sample.csv\", encoding=\"latin-1\")\n",
    "\n",
    "print(\"The shape of the data:\", df.shape)\n",
    "print(\"\\nFirst 5 rows:\")\n",
    "print(df.head())\n",
    "\n",
    "df = df.rename(columns={\n",
    "    \"QUANTITYORDERED\": \"Quantity Ordered\",\n",
    "    \"PRICEEACH\": \"Price Each\",\n",
    "    \"SALES\": \"Sales Amount\"\n",
    "})\n",
    "\n"
   ]
  }
 ],
 "metadata": {
  "kernelspec": {
   "display_name": "Python 3",
   "language": "python",
   "name": "python3"
  },
  "language_info": {
   "codemirror_mode": {
    "name": "ipython",
    "version": 3
   },
   "file_extension": ".py",
   "mimetype": "text/x-python",
   "name": "python",
   "nbconvert_exporter": "python",
   "pygments_lexer": "ipython3",
   "version": "3.13.7"
  }
 },
 "nbformat": 4,
 "nbformat_minor": 5
}
